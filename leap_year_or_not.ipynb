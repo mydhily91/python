{
 "cells": [
  {
   "cell_type": "code",
   "execution_count": 4,
   "metadata": {},
   "outputs": [
    {
     "name": "stdout",
     "output_type": "stream",
     "text": [
      "ENTER THE YEAR = 2015\n",
      "(2015, ' is not a leap year.')\n"
     ]
    }
   ],
   "source": [
    "# Write a programm to find the given year is leap year or not\n",
    "year = int(input(\"ENTER THE YEAR = \"))\n",
    "if (year % 400 == 0):\n",
    "    print (year, ' is a leap year.')\n",
    "elif(year % 100 == 0):\n",
    "    print (year,' is not a leap year.')\n",
    "elif (year %4 == 0):\n",
    "    print (year, ' is a leap year.')\n",
    "else :\n",
    "    print (year, ' is not a leap year.')"
   ]
  },
  {
   "cell_type": "code",
   "execution_count": null,
   "metadata": {},
   "outputs": [],
   "source": []
  }
 ],
 "metadata": {
  "kernelspec": {
   "display_name": "Python 2",
   "language": "python",
   "name": "python2"
  },
  "language_info": {
   "codemirror_mode": {
    "name": "ipython",
    "version": 2
   },
   "file_extension": ".py",
   "mimetype": "text/x-python",
   "name": "python",
   "nbconvert_exporter": "python",
   "pygments_lexer": "ipython2",
   "version": "2.7.16"
  }
 },
 "nbformat": 4,
 "nbformat_minor": 2
}
