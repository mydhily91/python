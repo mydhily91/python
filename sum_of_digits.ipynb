{
 "cells": [
  {
   "cell_type": "code",
   "execution_count": 1,
   "metadata": {},
   "outputs": [
    {
     "name": "stdout",
     "output_type": "stream",
     "text": [
      "ENTER THE NUMBER  = 1234\n",
      "THE SUM NUMBER OF DIGITS IN 1234 is 10\n"
     ]
    }
   ],
   "source": [
    "# write a programm to print the sum of digits in a number\n",
    "n = int(input(\"ENTER THE NUMBER  = \"))\n",
    "number = n\n",
    "sum = 0\n",
    "t = n\n",
    "while (t != 0):\n",
    "    remainder = t % 10\n",
    "    sum       = sum + remainder\n",
    "    t         = t / 10\n",
    "print(\"THE SUM NUMBER OF DIGITS IN %d is %d\"%(number,sum))"
   ]
  },
  {
   "cell_type": "code",
   "execution_count": null,
   "metadata": {},
   "outputs": [],
   "source": []
  }
 ],
 "metadata": {
  "kernelspec": {
   "display_name": "Python 2",
   "language": "python",
   "name": "python2"
  },
  "language_info": {
   "codemirror_mode": {
    "name": "ipython",
    "version": 2
   },
   "file_extension": ".py",
   "mimetype": "text/x-python",
   "name": "python",
   "nbconvert_exporter": "python",
   "pygments_lexer": "ipython2",
   "version": "2.7.16"
  }
 },
 "nbformat": 4,
 "nbformat_minor": 2
}
