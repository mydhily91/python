{
 "cells": [
  {
   "cell_type": "code",
   "execution_count": 2,
   "metadata": {},
   "outputs": [
    {
     "name": "stdout",
     "output_type": "stream",
     "text": [
      "ENTER NUMBER OF ROWS = 5\n",
      "ENTER NUMBER OF COLOUMS = 5\n",
      "1  2  3  4  5   \n",
      "1  2  3  4  5   \n",
      "1  2  3  4  5   \n",
      "1  2  3  4  5   \n",
      "1  2  3  4  5   \n"
     ]
    }
   ],
   "source": [
    "'''\n",
    "Write a program to print the stars in rows and coloums\n",
    "\n",
    "1 2 3 4 5\n",
    "1 2 3 4 5\n",
    "1 2 3 4 5\n",
    "1 2 3 4 5\n",
    "1 2 3 4 5\n",
    "\n",
    "'''\n",
    "row = int(input(\"ENTER NUMBER OF ROWS = \"))\n",
    "coloum = int(input(\"ENTER NUMBER OF COLOUMS = \"))\n",
    "for r in range(1,row+1):\n",
    "    for c in range(1,coloum+1):\n",
    "        print (c,end= '  ')\n",
    "    print(\" \")"
   ]
  },
  {
   "cell_type": "code",
   "execution_count": null,
   "metadata": {},
   "outputs": [],
   "source": []
  }
 ],
 "metadata": {
  "kernelspec": {
   "display_name": "Python 3",
   "language": "python",
   "name": "python3"
  },
  "language_info": {
   "codemirror_mode": {
    "name": "ipython",
    "version": 3
   },
   "file_extension": ".py",
   "mimetype": "text/x-python",
   "name": "python",
   "nbconvert_exporter": "python",
   "pygments_lexer": "ipython3",
   "version": "3.7.3"
  }
 },
 "nbformat": 4,
 "nbformat_minor": 2
}
