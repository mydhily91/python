{
 "cells": [
  {
   "cell_type": "code",
   "execution_count": 1,
   "metadata": {},
   "outputs": [
    {
     "name": "stdout",
     "output_type": "stream",
     "text": [
      "ENTER THE RADUIS OF THE CIRCLE:- 4\n",
      "THE AREA OF THE CIRCLE =  50.2654824574\n",
      "THE DIAMETER OF THE CIRCLE =  8.0\n",
      "THE PERIMETER OF THE CIRCLE =  25.1327412287\n"
     ]
    }
   ],
   "source": [
    "# Write a programm to find the area,perimeter and diameter of the circle\n",
    "import math\n",
    "Radius = float(input(\"ENTER THE RADUIS OF THE CIRCLE:- \"))\n",
    "Area = math.pi * Radius ** 2\n",
    "Diameter = Radius * 2\n",
    "Perimeter = 2 * math.pi * Radius\n",
    "print \"THE AREA OF THE CIRCLE = \", Area\n",
    "print \"THE DIAMETER OF THE CIRCLE = \", Diameter\n",
    "print \"THE PERIMETER OF THE CIRCLE = \", Perimeter"
   ]
  },
  {
   "cell_type": "code",
   "execution_count": null,
   "metadata": {},
   "outputs": [],
   "source": []
  }
 ],
 "metadata": {
  "kernelspec": {
   "display_name": "Python 2",
   "language": "python",
   "name": "python2"
  },
  "language_info": {
   "codemirror_mode": {
    "name": "ipython",
    "version": 2
   },
   "file_extension": ".py",
   "mimetype": "text/x-python",
   "name": "python",
   "nbconvert_exporter": "python",
   "pygments_lexer": "ipython2",
   "version": "2.7.16"
  }
 },
 "nbformat": 4,
 "nbformat_minor": 2
}
