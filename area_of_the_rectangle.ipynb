{
 "cells": [
  {
   "cell_type": "code",
   "execution_count": 1,
   "metadata": {},
   "outputs": [
    {
     "name": "stdout",
     "output_type": "stream",
     "text": [
      "ENTER THE LENGTH OF THE SQUARE = 16\n",
      "ENTER THE WIDTH OF THE SQUARE = 8\n",
      "THE AREA OF THE RECTANGLE =  128.0\n",
      "THE PERIMETER OF THE RECTANGLE =  48.0\n"
     ]
    }
   ],
   "source": [
    "# Write a programm to find area and perimeter of the rectangel\n",
    "import math\n",
    "Length = float(input(\"ENTER THE LENGTH OF THE SQUARE = \"))\n",
    "Width = float(input(\"ENTER THE WIDTH OF THE SQUARE = \"))\n",
    "Area = Length * Width\n",
    "Perimeter = 2*(Length + Width)\n",
    "print \"THE AREA OF THE RECTANGLE = \", Area\n",
    "print \"THE PERIMETER OF THE RECTANGLE = \", Perimeter"
   ]
  },
  {
   "cell_type": "code",
   "execution_count": null,
   "metadata": {},
   "outputs": [],
   "source": []
  }
 ],
 "metadata": {
  "kernelspec": {
   "display_name": "Python 2",
   "language": "python",
   "name": "python2"
  },
  "language_info": {
   "codemirror_mode": {
    "name": "ipython",
    "version": 2
   },
   "file_extension": ".py",
   "mimetype": "text/x-python",
   "name": "python",
   "nbconvert_exporter": "python",
   "pygments_lexer": "ipython2",
   "version": "2.7.16"
  }
 },
 "nbformat": 4,
 "nbformat_minor": 2
}
