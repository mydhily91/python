{
 "cells": [
  {
   "cell_type": "code",
   "execution_count": 10,
   "metadata": {},
   "outputs": [
    {
     "name": "stdout",
     "output_type": "stream",
     "text": [
      "ENTER THE RANGE FOR NUMBER OF LINES TO PRINT8\n",
      "       1 \n",
      "      2 2 \n",
      "     3 3 3 \n",
      "    4 4 4 4 \n",
      "   5 5 5 5 5 \n",
      "  6 6 6 6 6 6 \n",
      " 7 7 7 7 7 7 7 \n",
      "8 8 8 8 8 8 8 8 \n"
     ]
    }
   ],
   "source": [
    "'''\n",
    "Print full Triangle pyramid using stars \n",
    "            1   \n",
    "           2  2   \n",
    "          3  3  3   \n",
    "         4  4  4  4   \n",
    "        5  5  5  5  5   \n",
    "       6  6  6  6  6  6   \n",
    "      7  7  7  7  7  7  7   \n",
    "'''\n",
    "n = int(input(\"ENTER THE RANGE FOR NUMBER OF LINES TO PRINT\"))\n",
    "for i in range(n):\n",
    "    for j in range((n - i) - 1):\n",
    "        print(end=\" \")\n",
    "    for j in range(i + 1):\n",
    "        print(i+1, end=\" \")\n",
    "    print()"
   ]
  },
  {
   "cell_type": "code",
   "execution_count": null,
   "metadata": {},
   "outputs": [],
   "source": []
  }
 ],
 "metadata": {
  "kernelspec": {
   "display_name": "Python 3",
   "language": "python",
   "name": "python3"
  },
  "language_info": {
   "codemirror_mode": {
    "name": "ipython",
    "version": 3
   },
   "file_extension": ".py",
   "mimetype": "text/x-python",
   "name": "python",
   "nbconvert_exporter": "python",
   "pygments_lexer": "ipython3",
   "version": "3.7.3"
  }
 },
 "nbformat": 4,
 "nbformat_minor": 2
}
