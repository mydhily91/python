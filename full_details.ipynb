{
 "cells": [
  {
   "cell_type": "code",
   "execution_count": 2,
   "metadata": {},
   "outputs": [
    {
     "name": "stdout",
     "output_type": "stream",
     "text": [
      "ENTER YOUR AGE = 28\n",
      "ENTER YOUR NAME = 'mydhily'\n",
      "ENTER YOU CONTACT NUMBER = 8583445252\n",
      "('NAME :- ', 'mydhily')\n",
      "('AGE :-', 28)\n",
      "('CONTACT :- ', 8583445252)\n",
      "OVER\n"
     ]
    }
   ],
   "source": [
    "# Write a  programm to print your full details when our age is even\n",
    "age = int(input(\"ENTER YOUR AGE = \"))\n",
    "name = input(\"ENTER YOUR NAME = \")\n",
    "contact = int(input(\"ENTER YOU CONTACT NUMBER = \"))\n",
    "if age % 2 == 0:\n",
    "    print(\"NAME :- \", name)\n",
    "    print(\"AGE :-\", age)\n",
    "    print(\"CONTACT :- \",contact)\n",
    "print(\"OVER\")"
   ]
  },
  {
   "cell_type": "code",
   "execution_count": null,
   "metadata": {},
   "outputs": [],
   "source": []
  }
 ],
 "metadata": {
  "kernelspec": {
   "display_name": "Python 2",
   "language": "python",
   "name": "python2"
  },
  "language_info": {
   "codemirror_mode": {
    "name": "ipython",
    "version": 2
   },
   "file_extension": ".py",
   "mimetype": "text/x-python",
   "name": "python",
   "nbconvert_exporter": "python",
   "pygments_lexer": "ipython2",
   "version": "2.7.16"
  }
 },
 "nbformat": 4,
 "nbformat_minor": 2
}
