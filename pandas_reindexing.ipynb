{
 "cells": [
  {
   "cell_type": "code",
   "execution_count": 4,
   "metadata": {},
   "outputs": [],
   "source": [
    "# PANDAS RE-INDEXING\n",
    "import numpy as np\n",
    "from pandas import Series, DataFrame\n",
    "import pandas as pd\n",
    "from numpy.random import randn"
   ]
  },
  {
   "cell_type": "code",
   "execution_count": 5,
   "metadata": {},
   "outputs": [
    {
     "data": {
      "text/plain": [
       "A    1\n",
       "B    2\n",
       "C    3\n",
       "D    4\n",
       "E    5\n",
       "dtype: int64"
      ]
     },
     "execution_count": 5,
     "metadata": {},
     "output_type": "execute_result"
    }
   ],
   "source": [
    "#Creating a new series\n",
    "my_series = Series([1,2,3,4,5],index = ['A','B','C','D','E'])\n",
    "my_series"
   ]
  },
  {
   "cell_type": "code",
   "execution_count": 6,
   "metadata": {},
   "outputs": [
    {
     "data": {
      "text/plain": [
       "A    1.0\n",
       "B    2.0\n",
       "C    3.0\n",
       "D    4.0\n",
       "E    5.0\n",
       "F    NaN\n",
       "G    NaN\n",
       "dtype: float64"
      ]
     },
     "execution_count": 6,
     "metadata": {},
     "output_type": "execute_result"
    }
   ],
   "source": [
    "# If we want to reindex\n",
    "new_series = my_series.reindex(['A','B','C','D','E','F','G'])\n",
    "new_series"
   ]
  },
  {
   "cell_type": "code",
   "execution_count": 7,
   "metadata": {},
   "outputs": [
    {
     "data": {
      "text/plain": [
       "A    1.0\n",
       "B    2.0\n",
       "C    3.0\n",
       "D    4.0\n",
       "E    5.0\n",
       "F    NaN\n",
       "G    NaN\n",
       "H    0.0\n",
       "dtype: float64"
      ]
     },
     "execution_count": 7,
     "metadata": {},
     "output_type": "execute_result"
    }
   ],
   "source": [
    "#If we want to fill the values in the reindex\n",
    "series = new_series.reindex(['A','B','C','D','E','F','G','H'],fill_value = 0)\n",
    "series"
   ]
  },
  {
   "cell_type": "code",
   "execution_count": 8,
   "metadata": {},
   "outputs": [
    {
     "data": {
      "text/plain": [
       "2        USA\n",
       "4      India\n",
       "6    Germany\n",
       "8      China\n",
       "dtype: object"
      ]
     },
     "execution_count": 8,
     "metadata": {},
     "output_type": "execute_result"
    }
   ],
   "source": [
    "# Particular methonds for filling the value\n",
    "series1 = Series(['USA','India','Germany','China'],index = [2,4,6,8])\n",
    "series1"
   ]
  },
  {
   "cell_type": "code",
   "execution_count": 9,
   "metadata": {},
   "outputs": [
    {
     "data": {
      "text/plain": [
       "range(0, 15)"
      ]
     },
     "execution_count": 9,
     "metadata": {},
     "output_type": "execute_result"
    }
   ],
   "source": [
    "ranger = range(15)\n",
    "ranger"
   ]
  },
  {
   "cell_type": "code",
   "execution_count": 10,
   "metadata": {},
   "outputs": [
    {
     "data": {
      "text/plain": [
       "0         NaN\n",
       "1         NaN\n",
       "2         USA\n",
       "3         USA\n",
       "4       India\n",
       "5       India\n",
       "6     Germany\n",
       "7     Germany\n",
       "8       China\n",
       "9       China\n",
       "10      China\n",
       "11      China\n",
       "12      China\n",
       "13      China\n",
       "14      China\n",
       "dtype: object"
      ]
     },
     "execution_count": 10,
     "metadata": {},
     "output_type": "execute_result"
    }
   ],
   "source": [
    "series1.reindex(ranger,method = 'ffill')"
   ]
  },
  {
   "cell_type": "code",
   "execution_count": 11,
   "metadata": {},
   "outputs": [
    {
     "data": {
      "text/html": [
       "<div>\n",
       "<style scoped>\n",
       "    .dataframe tbody tr th:only-of-type {\n",
       "        vertical-align: middle;\n",
       "    }\n",
       "\n",
       "    .dataframe tbody tr th {\n",
       "        vertical-align: top;\n",
       "    }\n",
       "\n",
       "    .dataframe thead th {\n",
       "        text-align: right;\n",
       "    }\n",
       "</style>\n",
       "<table border=\"1\" class=\"dataframe\">\n",
       "  <thead>\n",
       "    <tr style=\"text-align: right;\">\n",
       "      <th></th>\n",
       "      <th>c1</th>\n",
       "      <th>c2</th>\n",
       "      <th>c3</th>\n",
       "      <th>c4</th>\n",
       "      <th>c5</th>\n",
       "    </tr>\n",
       "  </thead>\n",
       "  <tbody>\n",
       "    <tr>\n",
       "      <th>A</th>\n",
       "      <td>0.166482</td>\n",
       "      <td>-0.181401</td>\n",
       "      <td>0.974700</td>\n",
       "      <td>-0.635718</td>\n",
       "      <td>-0.826990</td>\n",
       "    </tr>\n",
       "    <tr>\n",
       "      <th>B</th>\n",
       "      <td>0.947461</td>\n",
       "      <td>1.017612</td>\n",
       "      <td>-0.627972</td>\n",
       "      <td>0.843479</td>\n",
       "      <td>0.314468</td>\n",
       "    </tr>\n",
       "    <tr>\n",
       "      <th>D</th>\n",
       "      <td>-2.733230</td>\n",
       "      <td>0.731657</td>\n",
       "      <td>1.737573</td>\n",
       "      <td>-0.357133</td>\n",
       "      <td>1.907395</td>\n",
       "    </tr>\n",
       "    <tr>\n",
       "      <th>E</th>\n",
       "      <td>-0.823740</td>\n",
       "      <td>0.332050</td>\n",
       "      <td>1.625972</td>\n",
       "      <td>-1.333965</td>\n",
       "      <td>-0.540016</td>\n",
       "    </tr>\n",
       "    <tr>\n",
       "      <th>F</th>\n",
       "      <td>0.976329</td>\n",
       "      <td>0.185811</td>\n",
       "      <td>1.033373</td>\n",
       "      <td>1.580809</td>\n",
       "      <td>0.295099</td>\n",
       "    </tr>\n",
       "  </tbody>\n",
       "</table>\n",
       "</div>"
      ],
      "text/plain": [
       "         c1        c2        c3        c4        c5\n",
       "A  0.166482 -0.181401  0.974700 -0.635718 -0.826990\n",
       "B  0.947461  1.017612 -0.627972  0.843479  0.314468\n",
       "D -2.733230  0.731657  1.737573 -0.357133  1.907395\n",
       "E -0.823740  0.332050  1.625972 -1.333965 -0.540016\n",
       "F  0.976329  0.185811  1.033373  1.580809  0.295099"
      ]
     },
     "execution_count": 11,
     "metadata": {},
     "output_type": "execute_result"
    }
   ],
   "source": [
    "dframe = DataFrame(randn(25).reshape((5,5)),index = ['A','B','D','E','F'],columns=['c1','c2','c3','c4','c5'])\n",
    "dframe"
   ]
  },
  {
   "cell_type": "code",
   "execution_count": 12,
   "metadata": {},
   "outputs": [
    {
     "data": {
      "text/html": [
       "<div>\n",
       "<style scoped>\n",
       "    .dataframe tbody tr th:only-of-type {\n",
       "        vertical-align: middle;\n",
       "    }\n",
       "\n",
       "    .dataframe tbody tr th {\n",
       "        vertical-align: top;\n",
       "    }\n",
       "\n",
       "    .dataframe thead th {\n",
       "        text-align: right;\n",
       "    }\n",
       "</style>\n",
       "<table border=\"1\" class=\"dataframe\">\n",
       "  <thead>\n",
       "    <tr style=\"text-align: right;\">\n",
       "      <th></th>\n",
       "      <th>c1</th>\n",
       "      <th>c2</th>\n",
       "      <th>c3</th>\n",
       "      <th>c4</th>\n",
       "      <th>c5</th>\n",
       "    </tr>\n",
       "  </thead>\n",
       "  <tbody>\n",
       "    <tr>\n",
       "      <th>A</th>\n",
       "      <td>0.166482</td>\n",
       "      <td>-0.181401</td>\n",
       "      <td>0.974700</td>\n",
       "      <td>-0.635718</td>\n",
       "      <td>-0.826990</td>\n",
       "    </tr>\n",
       "    <tr>\n",
       "      <th>B</th>\n",
       "      <td>0.947461</td>\n",
       "      <td>1.017612</td>\n",
       "      <td>-0.627972</td>\n",
       "      <td>0.843479</td>\n",
       "      <td>0.314468</td>\n",
       "    </tr>\n",
       "    <tr>\n",
       "      <th>C</th>\n",
       "      <td>NaN</td>\n",
       "      <td>NaN</td>\n",
       "      <td>NaN</td>\n",
       "      <td>NaN</td>\n",
       "      <td>NaN</td>\n",
       "    </tr>\n",
       "    <tr>\n",
       "      <th>D</th>\n",
       "      <td>-2.733230</td>\n",
       "      <td>0.731657</td>\n",
       "      <td>1.737573</td>\n",
       "      <td>-0.357133</td>\n",
       "      <td>1.907395</td>\n",
       "    </tr>\n",
       "    <tr>\n",
       "      <th>E</th>\n",
       "      <td>-0.823740</td>\n",
       "      <td>0.332050</td>\n",
       "      <td>1.625972</td>\n",
       "      <td>-1.333965</td>\n",
       "      <td>-0.540016</td>\n",
       "    </tr>\n",
       "    <tr>\n",
       "      <th>F</th>\n",
       "      <td>0.976329</td>\n",
       "      <td>0.185811</td>\n",
       "      <td>1.033373</td>\n",
       "      <td>1.580809</td>\n",
       "      <td>0.295099</td>\n",
       "    </tr>\n",
       "  </tbody>\n",
       "</table>\n",
       "</div>"
      ],
      "text/plain": [
       "         c1        c2        c3        c4        c5\n",
       "A  0.166482 -0.181401  0.974700 -0.635718 -0.826990\n",
       "B  0.947461  1.017612 -0.627972  0.843479  0.314468\n",
       "C       NaN       NaN       NaN       NaN       NaN\n",
       "D -2.733230  0.731657  1.737573 -0.357133  1.907395\n",
       "E -0.823740  0.332050  1.625972 -1.333965 -0.540016\n",
       "F  0.976329  0.185811  1.033373  1.580809  0.295099"
      ]
     },
     "execution_count": 12,
     "metadata": {},
     "output_type": "execute_result"
    }
   ],
   "source": [
    "dframe2 = dframe.reindex(['A','B','C','D','E','F'])\n",
    "dframe2"
   ]
  },
  {
   "cell_type": "code",
   "execution_count": 17,
   "metadata": {},
   "outputs": [
    {
     "data": {
      "text/html": [
       "<div>\n",
       "<style scoped>\n",
       "    .dataframe tbody tr th:only-of-type {\n",
       "        vertical-align: middle;\n",
       "    }\n",
       "\n",
       "    .dataframe tbody tr th {\n",
       "        vertical-align: top;\n",
       "    }\n",
       "\n",
       "    .dataframe thead th {\n",
       "        text-align: right;\n",
       "    }\n",
       "</style>\n",
       "<table border=\"1\" class=\"dataframe\">\n",
       "  <thead>\n",
       "    <tr style=\"text-align: right;\">\n",
       "      <th></th>\n",
       "      <th>c1</th>\n",
       "      <th>c2</th>\n",
       "      <th>c3</th>\n",
       "      <th>c4</th>\n",
       "      <th>c5</th>\n",
       "      <th>c6</th>\n",
       "    </tr>\n",
       "  </thead>\n",
       "  <tbody>\n",
       "    <tr>\n",
       "      <th>A</th>\n",
       "      <td>0.166482</td>\n",
       "      <td>-0.181401</td>\n",
       "      <td>0.974700</td>\n",
       "      <td>-0.635718</td>\n",
       "      <td>-0.826990</td>\n",
       "      <td>NaN</td>\n",
       "    </tr>\n",
       "    <tr>\n",
       "      <th>B</th>\n",
       "      <td>0.947461</td>\n",
       "      <td>1.017612</td>\n",
       "      <td>-0.627972</td>\n",
       "      <td>0.843479</td>\n",
       "      <td>0.314468</td>\n",
       "      <td>NaN</td>\n",
       "    </tr>\n",
       "    <tr>\n",
       "      <th>C</th>\n",
       "      <td>NaN</td>\n",
       "      <td>NaN</td>\n",
       "      <td>NaN</td>\n",
       "      <td>NaN</td>\n",
       "      <td>NaN</td>\n",
       "      <td>NaN</td>\n",
       "    </tr>\n",
       "    <tr>\n",
       "      <th>D</th>\n",
       "      <td>-2.733230</td>\n",
       "      <td>0.731657</td>\n",
       "      <td>1.737573</td>\n",
       "      <td>-0.357133</td>\n",
       "      <td>1.907395</td>\n",
       "      <td>NaN</td>\n",
       "    </tr>\n",
       "    <tr>\n",
       "      <th>E</th>\n",
       "      <td>-0.823740</td>\n",
       "      <td>0.332050</td>\n",
       "      <td>1.625972</td>\n",
       "      <td>-1.333965</td>\n",
       "      <td>-0.540016</td>\n",
       "      <td>NaN</td>\n",
       "    </tr>\n",
       "    <tr>\n",
       "      <th>F</th>\n",
       "      <td>0.976329</td>\n",
       "      <td>0.185811</td>\n",
       "      <td>1.033373</td>\n",
       "      <td>1.580809</td>\n",
       "      <td>0.295099</td>\n",
       "      <td>NaN</td>\n",
       "    </tr>\n",
       "  </tbody>\n",
       "</table>\n",
       "</div>"
      ],
      "text/plain": [
       "         c1        c2        c3        c4        c5  c6\n",
       "A  0.166482 -0.181401  0.974700 -0.635718 -0.826990 NaN\n",
       "B  0.947461  1.017612 -0.627972  0.843479  0.314468 NaN\n",
       "C       NaN       NaN       NaN       NaN       NaN NaN\n",
       "D -2.733230  0.731657  1.737573 -0.357133  1.907395 NaN\n",
       "E -0.823740  0.332050  1.625972 -1.333965 -0.540016 NaN\n",
       "F  0.976329  0.185811  1.033373  1.580809  0.295099 NaN"
      ]
     },
     "execution_count": 17,
     "metadata": {},
     "output_type": "execute_result"
    }
   ],
   "source": [
    "new_coloumns = ['c1','c2','c3','c4','c5','c6']\n",
    "dframe2.reindex(columns=new_coloumns)"
   ]
  },
  {
   "cell_type": "code",
   "execution_count": 18,
   "metadata": {},
   "outputs": [
    {
     "name": "stdout",
     "output_type": "stream",
     "text": [
      "          e         a         b         c         d\n",
      "A  0.948637  0.846939  0.865582  0.524248  0.120833\n",
      "B  0.782545  0.853676  0.617526  0.689173  0.063891\n",
      "C  0.030452  0.085740  0.945151  0.962584  0.247701\n",
      "D  0.853624  0.782989  0.337135  0.857402  0.804560\n",
      "E  0.261731  0.593490  0.665366  0.734662  0.140594\n"
     ]
    }
   ],
   "source": [
    "column=['a','b','c','d','e'] \n",
    "index=['A','B','C','D','E'] \n",
    "#create a dataframe of random values of array \n",
    "df1 = pd.DataFrame(np.random.rand(5,5),  \n",
    "           columns=column, index=index) \n",
    "colum=['e','a','b','c','d'] \n",
    "   \n",
    "# create the new index for columns \n",
    "print(df1.reindex(colum, axis='columns')) \n"
   ]
  },
  {
   "cell_type": "code",
   "execution_count": null,
   "metadata": {},
   "outputs": [],
   "source": []
  }
 ],
 "metadata": {
  "kernelspec": {
   "display_name": "Python 3",
   "language": "python",
   "name": "python3"
  },
  "language_info": {
   "codemirror_mode": {
    "name": "ipython",
    "version": 3
   },
   "file_extension": ".py",
   "mimetype": "text/x-python",
   "name": "python",
   "nbconvert_exporter": "python",
   "pygments_lexer": "ipython3",
   "version": "3.7.3"
  }
 },
 "nbformat": 4,
 "nbformat_minor": 2
}
