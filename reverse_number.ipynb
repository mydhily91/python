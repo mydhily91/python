{
 "cells": [
  {
   "cell_type": "code",
   "execution_count": 1,
   "metadata": {},
   "outputs": [
    {
     "name": "stdout",
     "output_type": "stream",
     "text": [
      "ENTER THE NUMBER  = 1234\n",
      "THE NUMBER OF DIGITS IN 1234 is 4321\n"
     ]
    }
   ],
   "source": [
    "# Write a programm to print reverse of a number\n",
    "n = int(input(\"ENTER THE NUMBER  = \"))\n",
    "number = n\n",
    "reverse = 0\n",
    "while (n != 0):\n",
    "    reverse = reverse * 10\n",
    "    reverse = reverse + (n%10)\n",
    "    n = n/10\n",
    "print(\"THE NUMBER OF DIGITS IN %d is %d\"%(number,reverse))"
   ]
  },
  {
   "cell_type": "code",
   "execution_count": null,
   "metadata": {},
   "outputs": [],
   "source": []
  }
 ],
 "metadata": {
  "kernelspec": {
   "display_name": "Python 2",
   "language": "python",
   "name": "python2"
  },
  "language_info": {
   "codemirror_mode": {
    "name": "ipython",
    "version": 2
   },
   "file_extension": ".py",
   "mimetype": "text/x-python",
   "name": "python",
   "nbconvert_exporter": "python",
   "pygments_lexer": "ipython2",
   "version": "2.7.16"
  }
 },
 "nbformat": 4,
 "nbformat_minor": 2
}
