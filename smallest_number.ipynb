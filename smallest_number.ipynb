{
 "cells": [
  {
   "cell_type": "code",
   "execution_count": 1,
   "metadata": {},
   "outputs": [
    {
     "name": "stdout",
     "output_type": "stream",
     "text": [
      "ENTER THE NUMBER = 1\n",
      "ENTER THE NUMBER = 2\n",
      "ENTER THE NUMBER = 3\n",
      "a IS SMALLER\n"
     ]
    }
   ],
   "source": [
    "# Write aprogramm to find the smallest number of 3 numbers\n",
    "a = int(input(\"ENTER THE NUMBER = \"))\n",
    "b = int(input(\"ENTER THE NUMBER = \"))\n",
    "c = int(input(\"ENTER THE NUMBER = \"))\n",
    "if a<b and a<c:\n",
    "    print \"a IS SMALLER\"\n",
    "elif b<a and b<c:\n",
    "    print \"b IS SMALLER\"\n",
    "elif c<a and c<b:\n",
    "    print \"c IS SMALLER\""
   ]
  },
  {
   "cell_type": "code",
   "execution_count": null,
   "metadata": {},
   "outputs": [],
   "source": []
  }
 ],
 "metadata": {
  "kernelspec": {
   "display_name": "Python 2",
   "language": "python",
   "name": "python2"
  },
  "language_info": {
   "codemirror_mode": {
    "name": "ipython",
    "version": 2
   },
   "file_extension": ".py",
   "mimetype": "text/x-python",
   "name": "python",
   "nbconvert_exporter": "python",
   "pygments_lexer": "ipython2",
   "version": "2.7.16"
  }
 },
 "nbformat": 4,
 "nbformat_minor": 2
}
