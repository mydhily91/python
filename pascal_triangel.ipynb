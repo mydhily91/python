{
 "cells": [
  {
   "cell_type": "code",
   "execution_count": 30,
   "metadata": {},
   "outputs": [
    {
     "name": "stdout",
     "output_type": "stream",
     "text": [
      "ENTER THE RANGE FOR NUMBER OF LINES TO PRINT10\n",
      "         1 \n",
      "        1 1 \n",
      "       1 2 1 \n",
      "      1 3 3 1 \n",
      "     1 4 6 4 1 \n",
      "    1 5 10 10 5 1 \n",
      "   1 6 15 20 15 6 1 \n",
      "  1 7 21 35 35 21 7 1 \n",
      " 1 8 28 56 70 56 28 8 1 \n",
      "1 9 36 84 126 126 84 36 9 1 \n"
     ]
    }
   ],
   "source": [
    "'''\n",
    "# Write a programm to print pascal's triangel\n",
    "            1   \n",
    "           1  1   \n",
    "          1  2  1   \n",
    "         1  3  3  1   \n",
    "        1  4  6  4  1   \n",
    "       1  5  10  10  5  1   \n",
    "      1  6  15  20  15  6  1   \n",
    "'''\n",
    "n = int(input(\"ENTER THE RANGE FOR NUMBER OF LINES TO PRINT\"))\n",
    "for line in range(1, n + 1):  \n",
    "        C = 1 \n",
    "        for j in range((n-line)):\n",
    "            print(end=\" \")\n",
    "        for i in range(1, line + 1):  \n",
    "            print(C, end = \" \")  \n",
    "            C = int(C * (line - i) / i)\n",
    "        print(\"\")  "
   ]
  }
 ],
 "metadata": {
  "kernelspec": {
   "display_name": "Python 3",
   "language": "python",
   "name": "python3"
  },
  "language_info": {
   "codemirror_mode": {
    "name": "ipython",
    "version": 3
   },
   "file_extension": ".py",
   "mimetype": "text/x-python",
   "name": "python",
   "nbconvert_exporter": "python",
   "pygments_lexer": "ipython3",
   "version": "3.7.3"
  }
 },
 "nbformat": 4,
 "nbformat_minor": 2
}
