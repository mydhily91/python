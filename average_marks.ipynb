{
 "cells": [
  {
   "cell_type": "code",
   "execution_count": 3,
   "metadata": {},
   "outputs": [
    {
     "name": "stdout",
     "output_type": "stream",
     "text": [
      "ENTER THE MARKS SCORED IN ENGLISH OUT OF 100= 90\n",
      "ENTER THE MARKS SCORED IN SCIENCE OUT OF 100 = 80\n",
      "ENTER THE MARKS SCORED IN MATHS OUT OF 100 = 75\n",
      "ENTER THE MARKS SCORED IN PHYSICS OUT OF 100 = 95\n",
      "ENTER MARKS SCORED IN BIOLOGY OUT OF 100 = 55\n",
      "GRADE = A\n"
     ]
    }
   ],
   "source": [
    "# Write a programm to find the grading system based on student marks\n",
    "English = int(input(\"ENTER THE MARKS SCORED IN ENGLISH OUT OF 100= \"))\n",
    "Science = int(input(\"ENTER THE MARKS SCORED IN SCIENCE OUT OF 100 = \"))\n",
    "Math = int(input(\"ENTER THE MARKS SCORED IN MATHS OUT OF 100 = \"))\n",
    "Physics = int(input(\"ENTER THE MARKS SCORED IN PHYSICS OUT OF 100 = \"))\n",
    "Biology = int(input(\"ENTER MARKS SCORED IN BIOLOGY OUT OF 100 = \"))\n",
    "avg_marks = (English + Science + Math + Physics + Biology)/5\n",
    "percentage = avg_marks/100\n",
    "if percentage >= 90 or percentage <= 100:\n",
    "    print \"GRADE = A\"\n",
    "elif percentage >= 80:\n",
    "    print \"GRADE = B\"\n",
    "elif percentage >= 70:\n",
    "    print \"GRADE = C\"\n",
    "elif percentage >= 60:\n",
    "    print \"GRADE = D\"\n",
    "elif percentage < 60:\n",
    "    print \"BETTER LUCK NEXT TIME\"\n",
    "elif percentage >=100: \n",
    "    print \"YOU HAVE ENTERED WRONG MARKS\""
   ]
  },
  {
   "cell_type": "markdown",
   "metadata": {},
   "source": []
  }
 ],
 "metadata": {
  "kernelspec": {
   "display_name": "Python 2",
   "language": "python",
   "name": "python2"
  },
  "language_info": {
   "codemirror_mode": {
    "name": "ipython",
    "version": 2
   },
   "file_extension": ".py",
   "mimetype": "text/x-python",
   "name": "python",
   "nbconvert_exporter": "python",
   "pygments_lexer": "ipython2",
   "version": "2.7.16"
  }
 },
 "nbformat": 4,
 "nbformat_minor": 2
}
