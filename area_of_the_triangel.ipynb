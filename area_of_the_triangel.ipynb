{
 "cells": [
  {
   "cell_type": "code",
   "execution_count": 1,
   "metadata": {},
   "outputs": [
    {
     "name": "stdout",
     "output_type": "stream",
     "text": [
      "ENTER THE SIDE OF THE TRIANGLE = 16\n",
      "ENTER THE SIDE OF THE TRIANGLE = 8\n",
      "ENTER THE SIDE OF THE TRIANGLE = 8\n",
      "ENTER THE HEIGHT OF THE TRIANGEL = 10\n",
      "THE AREA OF THE TRIANGEL =  40.0\n",
      "THE PERIMETER OF THE TRIANGEL =  32.0\n"
     ]
    }
   ],
   "source": [
    "# Write a programm to find area and perimeter of the Triangel\n",
    "import math\n",
    "a = float(input(\"ENTER THE SIDE OF THE TRIANGLE = \"))\n",
    "b = float(input(\"ENTER THE SIDE OF THE TRIANGLE = \"))\n",
    "c = float(input(\"ENTER THE SIDE OF THE TRIANGLE = \"))\n",
    "Height = float(input(\"ENTER THE HEIGHT OF THE TRIANGEL = \"))\n",
    "Area = b * Height/2\n",
    "Perimeter = a + b + c\n",
    "print \"THE AREA OF THE TRIANGEL = \", Area\n",
    "print \"THE PERIMETER OF THE TRIANGEL = \", Perimeter"
   ]
  },
  {
   "cell_type": "code",
   "execution_count": null,
   "metadata": {},
   "outputs": [],
   "source": []
  }
 ],
 "metadata": {
  "kernelspec": {
   "display_name": "Python 2",
   "language": "python",
   "name": "python2"
  },
  "language_info": {
   "codemirror_mode": {
    "name": "ipython",
    "version": 2
   },
   "file_extension": ".py",
   "mimetype": "text/x-python",
   "name": "python",
   "nbconvert_exporter": "python",
   "pygments_lexer": "ipython2",
   "version": "2.7.16"
  }
 },
 "nbformat": 4,
 "nbformat_minor": 2
}
