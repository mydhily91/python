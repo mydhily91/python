{
 "cells": [
  {
   "cell_type": "code",
   "execution_count": 4,
   "metadata": {},
   "outputs": [
    {
     "name": "stdout",
     "output_type": "stream",
     "text": [
      "0 element is = 1 \n",
      "1 element is = 2 \n",
      "2 element is = 3 \n",
      "3 element is = 4 \n",
      "4 element is = 5 \n",
      "5 element is = 6 \n",
      "6 element is = 7 \n",
      "7 element is = 8 \n",
      "8 element is = 9 \n",
      "9 element is = 10 \n",
      "i am else optional\n"
     ]
    }
   ],
   "source": [
    "# Write a programm to print all the elements from the sequence\n",
    "seq = [1,2,3,4,5,6,7,8,9,10]\n",
    "i = 0\n",
    "for var in seq :\n",
    "    print(\"%d element is = %d \"%(i,var))\n",
    "    i = i+1\n",
    "else:\n",
    "    print \"i am else optional\""
   ]
  },
  {
   "cell_type": "code",
   "execution_count": null,
   "metadata": {},
   "outputs": [],
   "source": []
  }
 ],
 "metadata": {
  "kernelspec": {
   "display_name": "Python 2",
   "language": "python",
   "name": "python2"
  },
  "language_info": {
   "codemirror_mode": {
    "name": "ipython",
    "version": 2
   },
   "file_extension": ".py",
   "mimetype": "text/x-python",
   "name": "python",
   "nbconvert_exporter": "python",
   "pygments_lexer": "ipython2",
   "version": "2.7.16"
  }
 },
 "nbformat": 4,
 "nbformat_minor": 2
}
