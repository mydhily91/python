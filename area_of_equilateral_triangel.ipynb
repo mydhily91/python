{
 "cells": [
  {
   "cell_type": "code",
   "execution_count": 7,
   "metadata": {},
   "outputs": [
    {
     "name": "stdout",
     "output_type": "stream",
     "text": [
      "Enter Your Own Character : 't'\n",
      "t\n",
      "The Given Character  t is a Consonant\n"
     ]
    }
   ],
   "source": [
    "#write a programm to print a given character is vowel or not\n",
    "ch = input(\"Enter Your Own Character : \")\n",
    "print(ch)\n",
    "if(ch == 'a' or ch == 'e' or ch == 'i' or ch == 'o' or ch == 'u' \n",
    "   or ch == 'A' or ch == 'E' or ch == 'I' or ch == 'O' or ch == 'U'):\n",
    " print \"The Given Character \", ch, \"is a Vowel\"\n",
    "else:\n",
    " print \"The Given Character \", ch, \"is a Consonant\""
   ]
  },
  {
   "cell_type": "code",
   "execution_count": null,
   "metadata": {},
   "outputs": [],
   "source": []
  }
 ],
 "metadata": {
  "kernelspec": {
   "display_name": "Python 2",
   "language": "python",
   "name": "python2"
  },
  "language_info": {
   "codemirror_mode": {
    "name": "ipython",
    "version": 2
   },
   "file_extension": ".py",
   "mimetype": "text/x-python",
   "name": "python",
   "nbconvert_exporter": "python",
   "pygments_lexer": "ipython2",
   "version": "2.7.16"
  }
 },
 "nbformat": 4,
 "nbformat_minor": 2
}
