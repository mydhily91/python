{
 "cells": [
  {
   "cell_type": "code",
   "execution_count": 1,
   "metadata": {},
   "outputs": [
    {
     "name": "stdout",
     "output_type": "stream",
     "text": [
      "ENTER THE LENGTH OF THE SQUARE = 4\n",
      "THE AREA OF THE SQUARE =  16.0\n",
      "THE PERIMETER OF THE SQUARE =  16.0\n",
      "THE DIAGONAL OF THE SQUARE = 5.65685424949\n"
     ]
    }
   ],
   "source": [
    "# Write a programm to find the area and perimeter and Diagonal of the square\n",
    "import math\n",
    "Length = float(input(\"ENTER THE LENGTH OF THE SQUARE = \"))\n",
    "Area = Length ** 2\n",
    "Perimeter = 4 * Length\n",
    "Diagonal = Length * math.sqrt(2)\n",
    "print \"THE AREA OF THE SQUARE = \", Area\n",
    "print \"THE PERIMETER OF THE SQUARE = \",Perimeter\n",
    "print \"THE DIAGONAL OF THE SQUARE =\", Diagonal"
   ]
  },
  {
   "cell_type": "code",
   "execution_count": null,
   "metadata": {},
   "outputs": [],
   "source": []
  }
 ],
 "metadata": {
  "kernelspec": {
   "display_name": "Python 2",
   "language": "python",
   "name": "python2"
  },
  "language_info": {
   "codemirror_mode": {
    "name": "ipython",
    "version": 2
   },
   "file_extension": ".py",
   "mimetype": "text/x-python",
   "name": "python",
   "nbconvert_exporter": "python",
   "pygments_lexer": "ipython2",
   "version": "2.7.16"
  }
 },
 "nbformat": 4,
 "nbformat_minor": 2
}
