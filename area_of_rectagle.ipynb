{
 "cells": [
  {
   "cell_type": "code",
   "execution_count": 4,
   "metadata": {},
   "outputs": [
    {
     "name": "stdout",
     "output_type": "stream",
     "text": [
      "ENTER THE RADUIS OF THE CIRCLE:- 3.4\n",
      "THE AREA OF THE CIRCLE =  36.3168110755\n",
      "THE DIAMETER OF THE CIRCLE =  6.8\n",
      "THE PERIMETER OF THE CIRCLE =  21.3628300444\n"
     ]
    }
   ],
   "source": [
    "# Write a programm to find the area,perimeter and diameter of the circle\n",
    "import math\n",
    "Radius = float(input(\"ENTER THE RADUIS OF THE CIRCLE:- \"))\n",
    "Area = math.pi * Radius ** 2\n",
    "Diameter = Radius * 2\n",
    "Perimeter = 2 * math.pi * Radius\n",
    "print \"THE AREA OF THE CIRCLE = \", Area\n",
    "print \"THE DIAMETER OF THE CIRCLE = \", Diameter\n",
    "print \"THE PERIMETER OF THE CIRCLE = \", Perimeter"
   ]
  },
  {
   "cell_type": "code",
   "execution_count": 7,
   "metadata": {},
   "outputs": [
    {
     "name": "stdout",
     "output_type": "stream",
     "text": [
      "ENTER THE LENGTH OF THE SQUARE = 4\n",
      "THE AREA OF THE SQUARE =  16.0\n",
      "THE PERIMETER OF THE SQUARE =  16.0\n",
      "THE DIAGONAL OF THE SQUARE = 5.65685424949\n"
     ]
    }
   ],
   "source": [
    "# Write a programm to find the area and perimeter and Diagonal of the square\n",
    "import math\n",
    "Length = float(input(\"ENTER THE LENGTH OF THE SQUARE = \"))\n",
    "Area = Length ** 2\n",
    "Perimeter = 4 * Length\n",
    "Diagonal = Length * math.sqrt(2)\n",
    "print \"THE AREA OF THE SQUARE = \", Area\n",
    "print \"THE PERIMETER OF THE SQUARE = \",Perimeter\n",
    "print \"THE DIAGONAL OF THE SQUARE =\", Diagonal"
   ]
  },
  {
   "cell_type": "code",
   "execution_count": 8,
   "metadata": {},
   "outputs": [
    {
     "name": "stdout",
     "output_type": "stream",
     "text": [
      "ENTER THE LENGTH OF THE SQUARE = 2\n",
      "ENTER THE WIDTH OF THE SQUARE = 3\n",
      "THE AREA OF THE RECTANGLE =  6.0\n",
      "THE PERIMETER OF THE RECTAGLE =  10.0\n"
     ]
    }
   ],
   "source": [
    "# Write a programm to find area and perimeter of the rectangel\n",
    "import math\n",
    "Length = float(input(\"ENTER THE LENGTH OF THE SQUARE = \"))\n",
    "Width = float(input(\"ENTER THE WIDTH OF THE SQUARE = \"))\n",
    "Area = Length * Width\n",
    "Perimeter = 2*(Length + Width)\n",
    "print \"THE AREA OF THE RECTANGLE = \", Area\n",
    "print \"THE PERIMETER OF THE RECTAGLE = \", Perimeter"
   ]
  },
  {
   "cell_type": "code",
   "execution_count": null,
   "metadata": {},
   "outputs": [],
   "source": []
  }
 ],
 "metadata": {
  "kernelspec": {
   "display_name": "Python 2",
   "language": "python",
   "name": "python2"
  },
  "language_info": {
   "codemirror_mode": {
    "name": "ipython",
    "version": 2
   },
   "file_extension": ".py",
   "mimetype": "text/x-python",
   "name": "python",
   "nbconvert_exporter": "python",
   "pygments_lexer": "ipython2",
   "version": "2.7.16"
  }
 },
 "nbformat": 4,
 "nbformat_minor": 2
}
