{
 "cells": [
  {
   "cell_type": "code",
   "execution_count": 1,
   "metadata": {},
   "outputs": [
    {
     "name": "stdout",
     "output_type": "stream",
     "text": [
      "ENTER THE NUMBER:- 5\n",
      "('The factorial of', 5, 'is', 120)\n"
     ]
    }
   ],
   "source": [
    "# Write a programm to find a given number is factorial of another number\n",
    "n = int(input(\"ENTER THE NUMBER:- \"))\n",
    "fact = 1\n",
    "if n < 0:\n",
    " print \"Error! Factorial of a negative number doesn't exist.\"\n",
    "elif n == 0:\n",
    " print \"The Factorial of 0 is 1\"\n",
    "else:\n",
    " for i in range(1,n + 1):\n",
    "        fact = fact * i\n",
    " print (\"The factorial of\",n,\"is\",fact)"
   ]
  },
  {
   "cell_type": "code",
   "execution_count": null,
   "metadata": {},
   "outputs": [],
   "source": []
  }
 ],
 "metadata": {
  "kernelspec": {
   "display_name": "Python 2",
   "language": "python",
   "name": "python2"
  },
  "language_info": {
   "codemirror_mode": {
    "name": "ipython",
    "version": 2
   },
   "file_extension": ".py",
   "mimetype": "text/x-python",
   "name": "python",
   "nbconvert_exporter": "python",
   "pygments_lexer": "ipython2",
   "version": "2.7.16"
  }
 },
 "nbformat": 4,
 "nbformat_minor": 2
}
