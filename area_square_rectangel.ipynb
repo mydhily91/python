{
 "cells": [
  {
   "cell_type": "code",
   "execution_count": 5,
   "metadata": {},
   "outputs": [
    {
     "name": "stdout",
     "output_type": "stream",
     "text": [
      "ENTER THE SIDE OF THE SQUARE = 4\n",
      "ENTER THE WIDTH OF THE RECTANGEL = 6\n",
      "ENTER THE LENGTH OF THE RECTANGEL = 8\n",
      "PERIMETER OF THE OF THE SQUARE =  16\n",
      "PERIMETER OF THE OF THE RECTANGEL =  16\n"
     ]
    }
   ],
   "source": [
    "# Write a programm to find sum of areas of the square and rectangle when the side of the sqare is equal to ant side of the reactangel\n",
    "#otherwise the sum of the perimeters\n",
    "import math\n",
    "side = int(input(\"ENTER THE SIDE OF THE SQUARE = \"))\n",
    "width = int(input(\"ENTER THE WIDTH OF THE RECTANGEL = \"))\n",
    "length = int(input(\"ENTER THE LENGTH OF THE RECTANGEL = \"))\n",
    "if side == width or side == length:\n",
    "    area_square = side ** 2\n",
    "    area_rectangel = length * width\n",
    "    print \"AREA OF THE SQUARE = \",area_square\n",
    "    print \"AREA OF THE RECTANGEL = \",area_rectangel\n",
    "else:\n",
    "    perimeter_square = 4 * side\n",
    "    perimeter_rectangel = 2 *(length)\n",
    "    print \"PERIMETER OF THE OF THE SQUARE = \",perimeter_square\n",
    "    print \"PERIMETER OF THE OF THE RECTANGEL = \",perimeter_rectangel"
   ]
  },
  {
   "cell_type": "code",
   "execution_count": null,
   "metadata": {},
   "outputs": [],
   "source": []
  }
 ],
 "metadata": {
  "kernelspec": {
   "display_name": "Python 2",
   "language": "python",
   "name": "python2"
  },
  "language_info": {
   "codemirror_mode": {
    "name": "ipython",
    "version": 2
   },
   "file_extension": ".py",
   "mimetype": "text/x-python",
   "name": "python",
   "nbconvert_exporter": "python",
   "pygments_lexer": "ipython2",
   "version": "2.7.16"
  }
 },
 "nbformat": 4,
 "nbformat_minor": 2
}
