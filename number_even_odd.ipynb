{
 "cells": [
  {
   "cell_type": "code",
   "execution_count": 8,
   "metadata": {},
   "outputs": [
    {
     "name": "stdout",
     "output_type": "stream",
     "text": [
      "ENTER THE NUMBER = 11\n",
      "11 IS ODD\n"
     ]
    }
   ],
   "source": [
    "# write a programm to find given number is even or not\n",
    "n = int(input(\"ENTER THE NUMBER = \"))\n",
    "if (n % 2) == 0:\n",
    " print \"{0} IS EVEN\".format(n)\n",
    "else:\n",
    " print \"{0} IS ODD\".format(n)"
   ]
  }
 ],
 "metadata": {
  "kernelspec": {
   "display_name": "Python 2",
   "language": "python",
   "name": "python2"
  },
  "language_info": {
   "codemirror_mode": {
    "name": "ipython",
    "version": 2
   },
   "file_extension": ".py",
   "mimetype": "text/x-python",
   "name": "python",
   "nbconvert_exporter": "python",
   "pygments_lexer": "ipython2",
   "version": "2.7.16"
  }
 },
 "nbformat": 4,
 "nbformat_minor": 2
}
