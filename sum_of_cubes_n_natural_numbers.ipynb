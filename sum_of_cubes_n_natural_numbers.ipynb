{
 "cells": [
  {
   "cell_type": "code",
   "execution_count": 2,
   "metadata": {},
   "outputs": [
    {
     "name": "stdout",
     "output_type": "stream",
     "text": [
      "ENTER THE RANGE FOR N NATURAL NUMBERS = 10\n",
      "sum of cubes 1st 10 natural numbers is 3025 \n"
     ]
    }
   ],
   "source": [
    "# Write a programm to find sum of cubes of 1st n natural numbers\n",
    "n = int(input(\"ENTER THE RANGE FOR N NATURAL NUMBERS = \"))\n",
    "i = 1\n",
    "sum = 0\n",
    "while (i <= n):\n",
    "    sum = sum + (i * i * i)\n",
    "    i = i + 1\n",
    "else:\n",
    "    print (\"sum of cubes 1st %d natural numbers is %d \"%(n,sum))"
   ]
  },
  {
   "cell_type": "code",
   "execution_count": null,
   "metadata": {},
   "outputs": [],
   "source": []
  }
 ],
 "metadata": {
  "kernelspec": {
   "display_name": "Python 2",
   "language": "python",
   "name": "python2"
  },
  "language_info": {
   "codemirror_mode": {
    "name": "ipython",
    "version": 2
   },
   "file_extension": ".py",
   "mimetype": "text/x-python",
   "name": "python",
   "nbconvert_exporter": "python",
   "pygments_lexer": "ipython2",
   "version": "2.7.16"
  }
 },
 "nbformat": 4,
 "nbformat_minor": 2
}
