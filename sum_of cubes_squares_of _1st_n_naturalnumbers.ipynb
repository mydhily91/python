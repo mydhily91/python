{
 "cells": [
  {
   "cell_type": "code",
   "execution_count": 13,
   "metadata": {
    "scrolled": true
   },
   "outputs": [
    {
     "name": "stdout",
     "output_type": "stream",
     "text": [
      "ENTER THE RANGE FOR FIRST N NATURAL NUMBERS = 8\n",
      "DIFFERENCE BETWEEN OF CUBES AND SUM OF SQUARES =  1092\n",
      "SUM OF CUBES OF FIRST N NATURAL NUMBERS =  1296\n",
      "SUM OF SQUARES OF FIRST N NATURAL NUMBERS =  204\n"
     ]
    }
   ],
   "source": [
    "# Write a programm to find sum of cubes of 1st n natural numbers when difference bettween sum of squares of 1st n natural numbers is odd\n",
    "#otherwise the sum of the sum of the squares of 1st n natural numbers\n",
    "n = int(input(\"ENTER THE RANGE FOR FIRST N NATURAL NUMBERS = \"))\n",
    "sum_cubes = 0\n",
    "sum_sqaures = 0\n",
    "for i in range(1,n):\n",
    "    sum_cubes = (n * (n + 1)/2) ** 2\n",
    "    sum_squares = n * (n + 1) * (2 * n + 1)/6\n",
    "difference = sum_cubes - sum_squares\n",
    "print \"DIFFERENCE BETWEEN OF CUBES AND SUM OF SQUARES = \",difference\n",
    "if difference % 2 == 0:\n",
    "    print \"SUM OF CUBES OF FIRST N NATURAL NUMBERS = \",sum_cubes\n",
    "    print \"SUM OF SQUARES OF FIRST N NATURAL NUMBERS = \",sum_squares\n",
    "else:\n",
    "    print \"DIFFERENCE BETWEEN OF CUBES AND SUM OF SQUARES = \",difference"
   ]
  }
 ],
 "metadata": {
  "kernelspec": {
   "display_name": "Python 2",
   "language": "python",
   "name": "python2"
  },
  "language_info": {
   "codemirror_mode": {
    "name": "ipython",
    "version": 2
   },
   "file_extension": ".py",
   "mimetype": "text/x-python",
   "name": "python",
   "nbconvert_exporter": "python",
   "pygments_lexer": "ipython2",
   "version": "2.7.16"
  }
 },
 "nbformat": 4,
 "nbformat_minor": 2
}
