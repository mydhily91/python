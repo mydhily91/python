{
 "cells": [
  {
   "cell_type": "code",
   "execution_count": 2,
   "metadata": {},
   "outputs": [
    {
     "name": "stdout",
     "output_type": "stream",
     "text": [
      "ENTER YOUR FATHER'S NAME :- 'vasu'\n",
      "ENTER YOUR FATHER'S ANGE :- 55\n",
      "ENTER YOUR FATHER'S CONTACT NUMBER :- 8919978613\n",
      "ENTER YOUR NAME :- 'mydhily'\n",
      "ENTER YOUR AGE :- 29\n",
      "ENTER YOUR CONTACT NUMBER :- 8583445152\n",
      " NAME :-  mydhily\n",
      "AGE :-  29\n",
      "CONTACT NUMBER :-  8583445152\n"
     ]
    }
   ],
   "source": [
    "# Write a programm to your details including your fathers name when your age is less than 18 \n",
    "Fathers_name = input(\"ENTER YOUR FATHER'S NAME :- \")\n",
    "Fathers_age = int(input(\"ENTER YOUR FATHER'S ANGE :- \"))\n",
    "Fathers_contact = int(input(\"ENTER YOUR FATHER'S CONTACT NUMBER :- \"))\n",
    "Name = input(\"ENTER YOUR NAME :- \")\n",
    "Age = int(input(\"ENTER YOUR AGE :- \"))\n",
    "Contact = int(input(\"ENTER YOUR CONTACT NUMBER :- \"))\n",
    "if Age <= 18:\n",
    "    print \"NAME :- \",Name\n",
    "    print \"FATHER'S NAME :- \",Fathers_name\n",
    "    print \"FATHER'S AGE :- \",Fthers_age\n",
    "    print \"FATHER'S CONTACT NUMBER :- \",Fathers_contact\n",
    "else:\n",
    "    print \" NAME :- \",Name\n",
    "    print \"AGE :- \",Age\n",
    "    print \"CONTACT NUMBER :- \",Contact"
   ]
  },
  {
   "cell_type": "code",
   "execution_count": null,
   "metadata": {},
   "outputs": [],
   "source": []
  }
 ],
 "metadata": {
  "kernelspec": {
   "display_name": "Python 2",
   "language": "python",
   "name": "python2"
  },
  "language_info": {
   "codemirror_mode": {
    "name": "ipython",
    "version": 2
   },
   "file_extension": ".py",
   "mimetype": "text/x-python",
   "name": "python",
   "nbconvert_exporter": "python",
   "pygments_lexer": "ipython2",
   "version": "2.7.16"
  }
 },
 "nbformat": 4,
 "nbformat_minor": 2
}
